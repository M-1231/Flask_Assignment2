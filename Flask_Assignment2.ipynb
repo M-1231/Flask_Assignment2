{
  "nbformat": 4,
  "nbformat_minor": 0,
  "metadata": {
    "colab": {
      "provenance": []
    },
    "kernelspec": {
      "name": "python3",
      "display_name": "Python 3"
    },
    "language_info": {
      "name": "python"
    }
  },
  "cells": [
    {
      "cell_type": "code",
      "execution_count": null,
      "metadata": {
        "id": "DSW5_ceCTZtC"
      },
      "outputs": [],
      "source": [
        "\"\"\" Q.1\n",
        "    GET is used to request data from a specified resource, such as a web page or an API endpoint. The data that is sent with a GET request is appended to the URL as a query string, which consists of name-value pairs separated by ampersands (&).\n",
        "    For example, if you want to search for “flowers” on Bing, you can use a GET request with the URL https://www.bing.com/search?q=flowers. The query string q=flowers specifies the parameter name q and the value flowers that are sent to the server\n",
        "    Some advantages of GET requests are that they can be cached, bookmarked, and stored in browser history. However, some disadvantages are that they have length limitations, they are less secure, and they should not be used to modify data on the server\n",
        "\n",
        "    POST is used to send data to a specified resource, such as a web page or an API endpoint, in order to create or update a resource. The data that is sent with a POST request is stored in the body of the HTTP request, which can contain various types of data, such as form data, JSON data, or binary data.\n",
        "    For example, if you want to create a new user account on a website, you can use a POST request with the URL https://www.example.com/signup and the data username=alice&password=secret in the body. The server will then process the data and create a new user account\n",
        "    Some advantages of POST requests are that they have no length restrictions, they are more secure, and they can be used to modify data on the server"
      ]
    },
    {
      "cell_type": "code",
      "source": [
        "\"\"\"Q.2\n",
        "   Request is used in Flask to access the data that is sent from a client’s web page to the server. For example, if you want to get the user’s input from a form or a query string, you can use request to retrieve the values of the parameters.\n",
        "   Request is also useful for getting information about the request itself, such as the method, the headers, the cookies, and the IP address.\n",
        "   Request is an object that is imported from the Flask module, and it is available in any view function that handles a route.\n",
        "   Request is not a module itself, but a proxy object that represents the current request.Using request in Flask allows you to process the incoming data and respond accordingly."
      ],
      "metadata": {
        "id": "2rWyCkjAVi2d"
      },
      "execution_count": null,
      "outputs": []
    },
    {
      "cell_type": "code",
      "source": [
        "\"\"\"Q.3\n",
        "   Redirect is used in Flask to send the user to a different URL after completing a certain action or condition.\n",
        "   For example, if you want to redirect the user to the home page after logging in successfully, you can use redirect to change the URL to /home. Redirect is a function that is imported from the Flask module, and it takes a URL as an argument .\n",
        "   Redirect is often used with another function called url_for, which generates a URL from a view function name and optional parameters . Using redirect in Flask allows you to control the flow of the web application and improve the user experience."
      ],
      "metadata": {
        "id": "-fcHpPnTWlgf"
      },
      "execution_count": null,
      "outputs": []
    },
    {
      "cell_type": "code",
      "source": [
        "\"\"\"Q.4\n",
        "   Templates in Flask are files that contain HTML code and some special syntax that allow you to insert dynamic data and logic into your web pages.\n",
        "   The render_template function is used in Flask to render a template file and return it as a response to the user.\n",
        "   The render_template function is imported from the Flask module, and it takes the name of the template file as the first argument, and optionally some keyword arguments that represent the variables that you want to pass to the template.\n"
      ],
      "metadata": {
        "id": "Xy-7TgfDXItv"
      },
      "execution_count": null,
      "outputs": []
    },
    {
      "cell_type": "code",
      "source": [
        "# Q.5 API creation in Flask\n",
        "    https://drive.google.com/file/d/137RVaWKZ6D6_1e27Btux8hKxjr2vDNB7/view?usp=drive_link\n",
        "\n",
        "#   API Testing in Postman\n",
        "    https://drive.google.com/file/d/1d99m_qhO0sVvMB36tOE6EiHDCuQmZ26l/view?usp=drive_link"
      ],
      "metadata": {
        "id": "shW78nUCX1Xv"
      },
      "execution_count": null,
      "outputs": []
    },
    {
      "cell_type": "code",
      "source": [],
      "metadata": {
        "id": "HDs5UGEpYsKR"
      },
      "execution_count": null,
      "outputs": []
    }
  ]
}